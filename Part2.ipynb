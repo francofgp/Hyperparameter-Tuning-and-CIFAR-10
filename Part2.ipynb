{
 "cells": [
  {
   "cell_type": "markdown",
   "metadata": {},
   "source": [
    "## Actividades 5 y 7\n",
    "----"
   ]
  },
  {
   "cell_type": "markdown",
   "metadata": {},
   "source": [
    "Primero voy a importar una librerias y crear las variables necesarias para empezar el TP2."
   ]
  },
  {
   "cell_type": "code",
   "execution_count": 1,
   "metadata": {},
   "outputs": [],
   "source": [
    "import numpy as np\n",
    "import pandas as pd\n",
    "import matplotlib.pyplot as plt\n",
    "from sklearn.datasets import load_iris  \n",
    "from sklearn import neighbors\n",
    "import seaborn as sns\n",
    "from sklearn.metrics import accuracy_score\n",
    "#para que matplotlib tengo los gráficos de seaborn\n",
    "from sklearn.model_selection import GridSearchCV \n",
    "sns.set\n",
    "from sklearn.metrics import plot_confusion_matrix\n",
    "from sklearn.metrics import confusion_matrix\n",
    "from sklearn import preprocessing\n",
    "from sklearn.preprocessing import StandardScaler\n",
    "import scikitplot as skplt\n",
    "import xgboost as xgb\n",
    "from scipy.stats import uniform, randint\n",
    "from sklearn.metrics import auc, accuracy_score, confusion_matrix, mean_squared_error\n",
    "from sklearn.model_selection import cross_val_score, GridSearchCV, KFold, RandomizedSearchCV, train_test_split\n",
    "import pandas as pd\n",
    "import seaborn as sn\n",
    "import xgboost as xgb\n",
    "import numpy as np\n",
    "import torch\n",
    "from torch import nn\n",
    "import collections\n",
    "from torchvision.datasets.utils import download_and_extract_archive\n",
    "import os\n",
    "import matplotlib\n",
    "%matplotlib inline\n",
    "import sympy as sp\n",
    "from funciones_utiles import polynomial_features\n",
    "from torch.optim import SGD\n",
    "import matplotlib.pyplot as plt\n",
    "from torch.utils import data\n",
    "import warnings\n",
    "from funciones_utiles import create_sinusoidal_data as create_data\n",
    "warnings.simplefilter('ignore')\n",
    "\n",
    "np.random.seed(12345)\n"
   ]
  },
  {
   "cell_type": "markdown",
   "metadata": {},
   "source": [
    "## 5. A partir de la versión con mini-batches, modificar el bucle de entrenamiento para que, sin modificar la iteración sobre el DataLoader, implemente descenso de gradiente estándar (*vanilla*) (actualización utilizando el gradiente sobre la función de costo acumulada, tras recorrer todo el dataset).\n",
    "---\n",
    "<br>\n",
    "A continuación defino el modelo básico, donde voy a comentar en el código las lineas que modifico."
   ]
  },
  {
   "cell_type": "code",
   "execution_count": 2,
   "metadata": {},
   "outputs": [
    {
     "name": "stdout",
     "output_type": "stream",
     "text": [
      "(10, 3) (50, 3)\n"
     ]
    }
   ],
   "source": [
    "x_train, y_train, x_val, y_val = create_data()\n",
    "P = 3\n",
    "\n",
    "x_train_vec = polynomial_features(x_train, P)\n",
    "y_train_vec = y_train.reshape(-1, 1) # aumentamos nuestro tensor de 1D a 2D pues así lo usará nuestro modelo\n",
    "\n",
    "x_test_vec = polynomial_features(x_val, P)\n",
    "y_test_vec = y_val.reshape(-1, 1)\n",
    "\n",
    "print(x_train_vec.shape, x_test_vec.shape)"
   ]
  },
  {
   "cell_type": "code",
   "execution_count": 3,
   "metadata": {},
   "outputs": [],
   "source": [
    "class FeedforwardNet(nn.Module):\n",
    "    def __init__(self, num_features, num_hidden, output):\n",
    "        super(FeedforwardNet, self).__init__()\n",
    "        # completa con tu código aquí\n",
    "        self.fc1 = torch.nn.Linear(num_features, num_hidden, bias=True)\n",
    "        self.ReLU = torch.nn.ReLU()\n",
    "        self.fc2 = torch.nn.Linear(num_hidden, output, bias=True)\n",
    "        \n",
    "    def forward(self, x):\n",
    "        # completa con tu código aquí\n",
    "        out = self.fc1(x)\n",
    "        out = self.ReLU(out)\n",
    "        out = self.fc2(out)\n",
    "        return out"
   ]
  },
  {
   "cell_type": "code",
   "execution_count": 4,
   "metadata": {},
   "outputs": [],
   "source": [
    "model = FeedforwardNet(num_features=P, num_hidden = 2, output=1)\n",
    "\n",
    "# si tenemos GPU, llevamos el modelo ahí\n",
    "if torch.cuda.is_available():\n",
    "    device = torch.device('cuda:0')\n",
    "else:\n",
    "    device = torch.device('cpu')    \n",
    "    \n",
    "model.to(device)\n",
    "\n",
    "model.train()  # modelo nuevamente activado para entrenamiento\n",
    "\n",
    "LEARNING_RATE = 0.01\n",
    "\n",
    "WEIGHT_DECAY = 0.01  # L2 regularization coef.\n",
    "\n",
    "criterion = nn.MSELoss(reduction='sum')\n",
    "\n",
    "optimizer = SGD(model.parameters(), lr=LEARNING_RATE, weight_decay=WEIGHT_DECAY)\n",
    "\n",
    "\n",
    "from torch.utils import data\n",
    "\n",
    "BATCH_SIZE = 5"
   ]
  },
  {
   "cell_type": "markdown",
   "metadata": {},
   "source": [
    "### ** En este siguiente bloque se puede visualizar la modificación **\n",
    "<br>\n",
    "ver comentarios en el código"
   ]
  },
  {
   "cell_type": "code",
   "execution_count": 5,
   "metadata": {},
   "outputs": [
    {
     "name": "stdout",
     "output_type": "stream",
     "text": [
      "10 2\n",
      "epoch = 00, train_loss = 1.414e+00, val_loss = 2.920e+01\n",
      "epoch = 1000, train_loss = 1.190e+00, val_loss = 2.451e+01\n",
      "epoch = 2000, train_loss = 1.190e+00, val_loss = 2.451e+01\n",
      "epoch = 3000, train_loss = 1.190e+00, val_loss = 2.451e+01\n",
      "epoch = 4000, train_loss = 1.190e+00, val_loss = 2.451e+01\n",
      "epoch = 5000, train_loss = 1.190e+00, val_loss = 2.451e+01\n",
      "epoch = 6000, train_loss = 1.190e+00, val_loss = 2.451e+01\n",
      "epoch = 7000, train_loss = 1.190e+00, val_loss = 2.451e+01\n",
      "epoch = 8000, train_loss = 1.190e+00, val_loss = 2.451e+01\n",
      "epoch = 9000, train_loss = 1.190e+00, val_loss = 2.451e+01\n"
     ]
    }
   ],
   "source": [
    "# ENTRENAMIENTO\n",
    "EPOCHS = 10000\n",
    "x_train_tensor = torch.from_numpy(np.float32(x_train_vec)).to(device)\n",
    "y_train_tensor = torch.from_numpy(np.float32(y_train_vec)).to(device)\n",
    "n_train = len(x_train_tensor)\n",
    "\n",
    "x_test_tensor = torch.from_numpy(np.float32(x_test_vec)).to(device)\n",
    "y_test_tensor = torch.from_numpy(np.float32(y_test_vec)).to(device)\n",
    "\n",
    "\n",
    "train_data = data.TensorDataset(x_train_tensor, y_train_tensor)\n",
    "train_loader = data.DataLoader(dataset=train_data, batch_size=BATCH_SIZE, shuffle=True, num_workers=0,)\n",
    "\n",
    "val_data = data.TensorDataset(x_test_tensor, y_test_tensor)\n",
    "val_loader = data.DataLoader(dataset=val_data, batch_size=BATCH_SIZE, shuffle=False, num_workers=0,)\n",
    "\n",
    "print(len(train_data), len(train_loader))\n",
    "\n",
    "train_loss, val_loss = [], []\n",
    "\n",
    "for epoch in range(EPOCHS):\n",
    "       \n",
    "    train_loss_acc = 0.  \n",
    "    #####################\n",
    "    # Aquí es donde hacemos los gradientes en cero, en lugar de adentro del bucle del \"train_loader\"\n",
    "    # de esta forma, cuando ingrese al bucle, se actualizen los gradientes una vez que recorre\n",
    "    # todo el bucle del train_loader, osea todas las muestras, como si fuera \"vanilla\"\n",
    "    optimizer.zero_grad() \n",
    "    #####################\n",
    "    for x, y in train_loader:\n",
    "        x.to(device, non_blocking=True)\n",
    "        y.to(device, non_blocking=True)\n",
    "       \n",
    "        y_pred = model(x)\n",
    "        loss = criterion(y_pred, y) / BATCH_SIZE\n",
    "        loss.backward()\n",
    "        \n",
    "        \n",
    "        train_loss_acc += loss.detach().item()\n",
    "        \n",
    "    train_loss.append(train_loss_acc / len(train_data))    \n",
    "\n",
    "\n",
    "    #####################\n",
    "    # Aquí actualizamos los parámetros del modelo, una vez que recorrio todo el bucle del train loader\n",
    "    # de esta forma conseguimos implementar el descenso de gradiente estándar (vanilla)\n",
    "    optimizer.step()  # línea de código modificada, la baje con respecto al código original\n",
    "    #####################\n",
    "\n",
    "\n",
    "    with torch.no_grad():\n",
    "        val_loss_acc = 0.\n",
    "        for x, y in val_loader:        \n",
    "            x.to(device, non_blocking=True)\n",
    "            y.to(device, non_blocking=True)        \n",
    "            \n",
    "            y_pred = model(x)      \n",
    "            loss = criterion(y_pred, y)\n",
    "            \n",
    "            val_loss_acc += loss.item()    \n",
    "        val_loss.append(val_loss_acc / len(val_data))\n",
    "        \n",
    "    if epoch % (EPOCHS//10) == 0:\n",
    "        print(\"epoch = {:02d}, train_loss = {:.3e}, val_loss = {:.3e}\".format(epoch, train_loss_acc, val_loss_acc))"
   ]
  },
  {
   "cell_type": "code",
   "execution_count": 6,
   "metadata": {},
   "outputs": [
    {
     "data": {
      "image/png": "[encoded data removed]",
      "text/plain": [
       "<Figure size 432x288 with 1 Axes>"
      ]
     },
     "metadata": {
      "needs_background": "light"
     },
     "output_type": "display_data"
    },
    {
     "data": {
      "image/png": "[encoded data removed]",
      "text/plain": [
       "<Figure size 432x288 with 1 Axes>"
      ]
     },
     "metadata": {
      "needs_background": "light"
     },
     "output_type": "display_data"
    }
   ],
   "source": [
    "plt.figure()\n",
    "plt.plot(np.arange(EPOCHS), train_loss)\n",
    "plt.plot(np.arange(EPOCHS), val_loss)\n",
    "plt.ylabel('loss')\n",
    "plt.xlabel('epoch')\n",
    "plt.legend(['train', 'val'])\n",
    "plt.grid()\n",
    "\n",
    "model.eval()\n",
    "y_pred = model(x_test_tensor)\n",
    "y_pred = y_pred.cpu().detach().numpy().squeeze()\n",
    "plt.figure()\n",
    "plt.plot(x_val, y_val)\n",
    "plt.plot(x_val, y_pred, color='orange')\n",
    "plt.scatter(x_train, y_train, color='red')\n",
    "plt.ylabel('$\\sin(2 \\pi x)$')\n",
    "plt.xlabel('$x$')\n",
    "plt.grid()"
   ]
  },
  {
   "cell_type": "markdown",
   "metadata": {},
   "source": [
    "### 7. Para el transfer Learning, decidí usar el modelo visto en clases, para extrar los features, y despues usar algunos de los algortimos de SKLearn para clasificarlo.\n",
    "---\n",
    "\n",
    "<br>\n",
    "\n",
    "A continuación  vuelvo a escribir todo el código base visto en clases para extraer los features.\n",
    "El ejercició comienza a partir del Título KNN"
   ]
  },
  {
   "cell_type": "code",
   "execution_count": 7,
   "metadata": {},
   "outputs": [
    {
     "name": "stdout",
     "output_type": "stream",
     "text": [
      "Downloading https://download.pytorch.org/tutorial/hymenoptera_data.zip to ./data/hymenoptera_data.zip\n"
     ]
    },
    {
     "name": "stderr",
     "output_type": "stream",
     "text": [
      "47287296it [00:10, 4575502.29it/s]                              \n"
     ]
    },
    {
     "name": "stdout",
     "output_type": "stream",
     "text": [
      "Extracting ./data/hymenoptera_data.zip to ./data/\n",
      "Archivos descargados y extraidos con éxito\n"
     ]
    }
   ],
   "source": [
    "\n",
    "\n",
    "if not os.path.exists(\"./data/hymenoptera_data\"):\n",
    "\n",
    "    url = \"https://download.pytorch.org/tutorial/hymenoptera_data.zip\"\n",
    "    root = './data/'\n",
    "\n",
    "    download_and_extract_archive(url, root)\n",
    "    print(\"Archivos descargados y extraidos con éxito\")\n",
    "    \n",
    "else:\n",
    "    print(\"La carpeta ya existe\")"
   ]
  },
  {
   "cell_type": "code",
   "execution_count": 8,
   "metadata": {},
   "outputs": [],
   "source": [
    "import numpy as np\n",
    "import matplotlib.pyplot as plt\n",
    "import os\n",
    "\n",
    "from torchvision.datasets import ImageFolder\n",
    "from torchvision.utils import make_grid\n",
    "from torchvision import transforms\n",
    "from torch.utils.data import DataLoader\n",
    "from funciones_utiles import imshow_tensor\n",
    "\n",
    "path = './data/hymenoptera_data/'\n",
    "\n",
    "batch_size = 4\n",
    "num_workers = 2\n",
    "\n",
    "# transformaciones que se aplicarán sobre cada imagen:\n",
    "#   1. el lado más chico de la imagen a 256 pixels manteniendo relación de aspecto (PIL -> PIL)\n",
    "#   2. crop de la región central de 224x224 pixels (PIL -> PIL)\n",
    "#   1. transformar la imagen PIL a un tensor de pytorch (PIL -> Tensor)\n",
    "#   2. aplicar la normalización (estandarización) con la que fueron entrenados los modelos en torchvision  (Tensor -> Tensor)\n",
    "transform = transforms.Compose([    \n",
    "    transforms.Resize(256),    \n",
    "    transforms.CenterCrop(224),   \n",
    "    transforms.ToTensor(),\n",
    "    transforms.Normalize([0.485, 0.456, 0.406], [0.229, 0.224, 0.225])\n",
    "])"
   ]
  },
  {
   "cell_type": "code",
   "execution_count": 9,
   "metadata": {},
   "outputs": [
    {
     "name": "stdout",
     "output_type": "stream",
     "text": [
      "torch.Size([4, 3, 224, 224])\n",
      "tensor([0, 1, 0, 1])\n",
      "['ants', 'bees', 'ants', 'bees']\n"
     ]
    },
    {
     "data": {
      "image/png": "[encoded data removed]",
      "text/plain": [
       "<Figure size 432x288 with 1 Axes>"
      ]
     },
     "metadata": {
      "needs_background": "light"
     },
     "output_type": "display_data"
    }
   ],
   "source": [
    "# dataset\n",
    "data = ImageFolder(os.path.join(path, 'train'), transform)\n",
    "\n",
    "# data loader\n",
    "loader = DataLoader(data, batch_size=batch_size, shuffle=True, num_workers=num_workers)\n",
    "\n",
    "image_batch, labels = next(iter(loader))\n",
    "print(image_batch.size())\n",
    "print(labels)\n",
    "print([data.classes[lbl] for lbl in labels])\n",
    "grid = make_grid(image_batch)\n",
    "imshow_tensor(grid)"
   ]
  },
  {
   "cell_type": "code",
   "execution_count": 10,
   "metadata": {},
   "outputs": [],
   "source": [
    "import torch\n",
    "from torch import nn\n",
    "from torchvision import models\n",
    "from tqdm import tqdm_notebook as progressbar\n",
    "\n",
    "class FeatureExtractor(nn.Module):\n",
    "    def __init__(self):        \n",
    "        super().__init__()\n",
    "        # leer red pre-entrenada\n",
    "        model = models.resnet18(pretrained=True)\n",
    "        \n",
    "        # congelamos los parámetros\n",
    "        for p in model.parameters():\n",
    "            p.requires_grad_(False)\n",
    "            \n",
    "        # armamos modelo secuencial que incluya todas las capas salvo la última (fc)\n",
    "        layers = list(model.children())[:-1] # quitamos la última capa\n",
    "        self.net = nn.Sequential(*layers) \n",
    "        \n",
    "    def forward(self, x):        \n",
    "        N = x.size(0)  # batch size\n",
    "        x = self.net(x)\n",
    "        return x.view(N, -1) # redimensionamos la salida para adaptarla a nuestro modelo"
   ]
  },
  {
   "cell_type": "code",
   "execution_count": 11,
   "metadata": {},
   "outputs": [],
   "source": [
    "def features_and_labels(set_):\n",
    "    if set_ not in ('train', 'val'):\n",
    "        raise ValueError('not a valid data set')\n",
    "        \n",
    "    transform = transforms.Compose([    \n",
    "        transforms.Resize(256),\n",
    "        transforms.ToTensor(),\n",
    "        transforms.Normalize([0.485, 0.456, 0.406], [0.229, 0.224, 0.225])\n",
    "    ])\n",
    "    \n",
    "    data = ImageFolder(os.path.join(path, set_), transform)\n",
    "    \n",
    "    loader = DataLoader(data, batch_size=1, shuffle=False, num_workers=0)\n",
    "    \n",
    "    extractor = FeatureExtractor()\n",
    "    extractor.eval()\n",
    "    \n",
    "    features, labels = [], []\n",
    "    \n",
    "    for img, lbl in progressbar(loader):\n",
    "        feat = extractor(img)  \n",
    "        features.append(feat)\n",
    "        labels.append(lbl)\n",
    "\n",
    "\n",
    "    features = torch.cat(features, dim=0)\n",
    "    labels = torch.cat(labels, dim=0)\n",
    "\n",
    "    return features, labels\n"
   ]
  },
  {
   "cell_type": "code",
   "execution_count": 12,
   "metadata": {},
   "outputs": [
    {
     "data": {
      "application/vnd.jupyter.widget-view+json": {
       "model_id": "f09c74c97b16466e815ccfe418d49dcd",
       "version_major": 2,
       "version_minor": 0
      },
      "text/plain": [
       "  0%|          | 0/244 [00:00<?, ?it/s]"
      ]
     },
     "metadata": {},
     "output_type": "display_data"
    },
    {
     "data": {
      "application/vnd.jupyter.widget-view+json": {
       "model_id": "282a308177fc4b49ad18f6df7a6072d0",
       "version_major": 2,
       "version_minor": 0
      },
      "text/plain": [
       "  0%|          | 0/153 [00:00<?, ?it/s]"
      ]
     },
     "metadata": {},
     "output_type": "display_data"
    },
    {
     "name": "stdout",
     "output_type": "stream",
     "text": [
      "torch.Size([244, 512]) torch.Size([153, 512])\n"
     ]
    }
   ],
   "source": [
    "train_features, train_labels = features_and_labels('train')\n",
    "val_features, val_labels = features_and_labels('val')\n",
    "print(train_features.size(), val_features.size())"
   ]
  },
  {
   "cell_type": "code",
   "execution_count": 13,
   "metadata": {},
   "outputs": [
    {
     "name": "stdout",
     "output_type": "stream",
     "text": [
      "(244, 512) (244, 1)\n",
      "(153, 512) (153, 1)\n"
     ]
    }
   ],
   "source": [
    "x_train, y_train = train_features.cpu().numpy(), train_labels.cpu().numpy().reshape(-1, 1)\n",
    "x_test, y_test = val_features.cpu().numpy(), val_labels.cpu().numpy().reshape(-1, 1)\n",
    "\n",
    "# # para evitar recomputar los features cada vez, se pueden almacenar a disco \n",
    "# np.save(\"resnet18.npy\", {'x_train': x_train, 'y_train': y_train, 'x_test': x_test, 'y_test': y_test}, allow_pickle=True)\n",
    "# mydata = np.load(\"resnet18.npy\", allow_pickle=True)\n",
    "# x_train = mydata.item().get('x_train')\n",
    "# y_train = mydata.item().get('y_train')\n",
    "# x_test = mydata.item().get('x_test')\n",
    "# y_test = mydata.item().get('y_test')\n",
    "\n",
    "print(x_train.shape, y_train.shape)\n",
    "print(x_test.shape, y_test.shape)\n",
    "\n",
    "# TODO:\n",
    "# agrega tu código aquí para realizar una clasificación con modelos de sklearn"
   ]
  },
  {
   "cell_type": "markdown",
   "metadata": {},
   "source": [
    "## KNN\n",
    "---\n",
    "\n",
    "El primer modelo que voy a aplicar va a ser KNN, ya que su funcionamiento es sencillo"
   ]
  },
  {
   "cell_type": "markdown",
   "metadata": {},
   "source": [
    "#### Escalamos los datos"
   ]
  },
  {
   "cell_type": "code",
   "execution_count": 14,
   "metadata": {},
   "outputs": [],
   "source": [
    "sc_X = StandardScaler()\n",
    "x_train = sc_X.fit_transform(x_train)\n",
    "X_test = sc_X.transform(x_test)\n"
   ]
  },
  {
   "cell_type": "markdown",
   "metadata": {},
   "source": [
    "#### Entrenamos el modelo"
   ]
  },
  {
   "cell_type": "code",
   "execution_count": 15,
   "metadata": {},
   "outputs": [],
   "source": [
    "\n",
    "clf_sk = neighbors.KNeighborsClassifier(n_neighbors=5)\n",
    "clf_sk.fit(x_train,y_train)\n",
    "y_hat = clf_sk.predict(x_test)\n"
   ]
  },
  {
   "cell_type": "markdown",
   "metadata": {},
   "source": [
    "#### Métricas"
   ]
  },
  {
   "cell_type": "code",
   "execution_count": 16,
   "metadata": {},
   "outputs": [
    {
     "name": "stdout",
     "output_type": "stream",
     "text": [
      "Tasa de aciertos: 0.8300653594771242\n"
     ]
    }
   ],
   "source": [
    "accuracy_escalado=accuracy_score(y_true=y_test, y_pred=y_hat)\n",
    "print(f'Tasa de aciertos: {accuracy_escalado}')"
   ]
  },
  {
   "cell_type": "code",
   "execution_count": 17,
   "metadata": {},
   "outputs": [
    {
     "name": "stdout",
     "output_type": "stream",
     "text": [
      "              precision    recall  f1-score   support\n",
      "\n",
      "      Abejas       0.96      0.66      0.78        70\n",
      "    Hormigas       0.77      0.98      0.86        83\n",
      "\n",
      "    accuracy                           0.83       153\n",
      "   macro avg       0.86      0.82      0.82       153\n",
      "weighted avg       0.86      0.83      0.82       153\n",
      "\n"
     ]
    }
   ],
   "source": [
    "from sklearn import metrics\n",
    "print(metrics.classification_report(y_test, y_hat, target_names=[\"Abejas\",\"Hormigas\"]))"
   ]
  },
  {
   "cell_type": "code",
   "execution_count": 18,
   "metadata": {},
   "outputs": [
    {
     "data": {
      "image/png": "[encoded data removed]",
      "text/plain": [
       "<Figure size 432x288 with 2 Axes>"
      ]
     },
     "metadata": {
      "needs_background": "light"
     },
     "output_type": "display_data"
    }
   ],
   "source": [
    "plot_confusion_matrix(clf_sk, x_test, y_test,\n",
    "                      display_labels=[\"Abejas\",\"Hormigas\"],\n",
    "                      cmap=plt.cm.Blues,\n",
    "                      normalize='true')\n",
    "plt.show()"
   ]
  },
  {
   "cell_type": "code",
   "execution_count": 19,
   "metadata": {},
   "outputs": [
    {
     "data": {
      "image/png": "[encoded data removed]",
      "text/plain": [
       "<Figure size 432x288 with 1 Axes>"
      ]
     },
     "metadata": {
      "needs_background": "light"
     },
     "output_type": "display_data"
    }
   ],
   "source": [
    "y_hat_probas = clf_sk.predict_proba(x_test)\n",
    "skplt.metrics.plot_roc(y_test, y_hat_probas, plot_micro=False, plot_macro=False)\n",
    "plt.show()"
   ]
  },
  {
   "cell_type": "markdown",
   "metadata": {},
   "source": [
    "## XGBoost\n",
    "---\n",
    "\n",
    "\n",
    "Qué es XGBoost ?\n",
    "\n",
    "- En el aprendizaje automático, los modelos conjuntos obtienen mejores resultados que los modelos individuales con una alta probabilidad. Un modelo de conjunto combina diferentes modelos de aprendizaje automático en uno solo. El bosque aleatorio es un conjunto muy popular que toma la media de muchos árboles de decisión mediante el ensamblaje. Bagging es la abreviatura de \"bootstrap aggregation\", lo que significa que las muestras se eligen con reemplazo (bootstrapping), y se combinan (agregan) tomando su media.\n",
    "El \"boosting\" es una buena alternativa al \"bagging\". En lugar de agregar predicciones, los reforzadores convierten a los aprendices débiles en aprendices fuertes centrándose en los puntos en los que los modelos individuales (normalmente árboles de decisión) se equivocan. En el Gradient Boosting, los modelos individuales se entrenan sobre los residuos, la diferencia entre la predicción y los resultados reales. En lugar de agregar árboles, los árboles con refuerzo de gradiente aprenden de los errores durante cada ronda de refuerzo.\n",
    "XGBoost es la abreviatura de \"eXtreme Gradient Boosting\". El término \"eXtreme\" se refiere a las mejoras de velocidad, como la computación en paralelo y el conocimiento de la caché, que hacen que XGBoost sea aproximadamente 10 veces más rápido que el Gradient Boosting tradicional. Además, XGBoost incluye un algoritmo único de búsqueda de divisiones para optimizar los árboles, junto con una regularización incorporada que reduce el sobreajuste. En general, XGBoost es una versión más rápida y precisa del Gradient Boosting\n",
    "\n",
    "<br>\n",
    "\n",
    "\n",
    "XGBoost no requiere scalar los datos, ya que está basado en sus origenes en un árbol de decisión\n",
    "\n",
    "Decidí implementar este algoritmo, para combinar el poder de las redes neuronales con uno de los algortimos más poderos que es XGBoost, y ver que resultados obtengo\n",
    "\n",
    "[Fuente](https://towardsdatascience.com/getting-started-with-xgboost-in-scikit-learn-f69f5f470a97)\n",
    "\n"
   ]
  },
  {
   "cell_type": "code",
   "execution_count": 20,
   "metadata": {},
   "outputs": [],
   "source": [
    "x_train, y_train = train_features.cpu().numpy(), train_labels.cpu().numpy().reshape(-1, 1)\n",
    "x_test, y_test = val_features.cpu().numpy(), val_labels.cpu().numpy().reshape(-1, 1)"
   ]
  },
  {
   "cell_type": "code",
   "execution_count": 21,
   "metadata": {},
   "outputs": [
    {
     "name": "stdout",
     "output_type": "stream",
     "text": [
      "[20:39:11] WARNING: ..\\src\\learner.cc:1095: Starting in XGBoost 1.3.0, the default evaluation metric used with the objective 'binary:logistic' was changed from 'error' to 'logloss'. Explicitly set eval_metric if you'd like to restore the old behavior.\n",
      "Tasa de aciertos: 0.9411764705882353\n"
     ]
    }
   ],
   "source": [
    "xgb_model = xgb.XGBClassifier(objective=\"binary:logistic\",use_label_encoder=False )\n",
    "xgb_model.fit(x_train, y_train)\n",
    "\n",
    "y_pred = xgb_model.predict(x_test)\n",
    "\n",
    "accuracy=accuracy_score(y_true=y_test, y_pred=y_pred)\n",
    "print(f'Tasa de aciertos: {accuracy}')"
   ]
  },
  {
   "cell_type": "code",
   "execution_count": 22,
   "metadata": {},
   "outputs": [
    {
     "data": {
      "image/png": "[encoded data removed]",
      "text/plain": [
       "<Figure size 432x288 with 2 Axes>"
      ]
     },
     "metadata": {
      "needs_background": "light"
     },
     "output_type": "display_data"
    }
   ],
   "source": [
    "plot_confusion_matrix(xgb_model, x_test, y_test,\n",
    "                      display_labels=[\"Abejas\",\"Hormigas\"],\n",
    "                      cmap=plt.cm.Blues,\n",
    "                      normalize='true')\n",
    "plt.show()"
   ]
  },
  {
   "cell_type": "markdown",
   "metadata": {},
   "source": [
    "#### Búsqueda en grilla\n",
    "---\n",
    "\n",
    "Decidí aplicar una búsqueda en grilla para ver si podemos aumentar aún más la calidad de nuestro modelo\n"
   ]
  },
  {
   "cell_type": "code",
   "execution_count": 23,
   "metadata": {},
   "outputs": [],
   "source": [
    "x_train, y_train = train_features.cpu().numpy(), train_labels.cpu().numpy().reshape(-1, 1)\n",
    "x_test, y_test = val_features.cpu().numpy(), val_labels.cpu().numpy().reshape(-1, 1)"
   ]
  },
  {
   "cell_type": "code",
   "execution_count": 24,
   "metadata": {
    "tags": []
   },
   "outputs": [
    {
     "name": "stdout",
     "output_type": "stream",
     "text": [
      "Fitting 3 folds for each of 35 candidates, totalling 105 fits\n"
     ]
    },
    {
     "data": {
      "text/plain": [
       "RandomizedSearchCV(cv=3,\n",
       "                   estimator=XGBClassifier(base_score=None, booster=None,\n",
       "                                           colsample_bylevel=None,\n",
       "                                           colsample_bynode=None,\n",
       "                                           colsample_bytree=None,\n",
       "                                           eval_metric='mlogloss', gamma=None,\n",
       "                                           gpu_id=None, importance_type='gain',\n",
       "                                           interaction_constraints=None,\n",
       "                                           learning_rate=None,\n",
       "                                           max_delta_step=None, max_depth=None,\n",
       "                                           min_child_weight=None, missing=nan,\n",
       "                                           monotone_constraints...\n",
       "                                        'learning_rate': <scipy.stats._distn_infrastructure.rv_frozen object at 0x000002A215EB9508>,\n",
       "                                        'max_depth': <scipy.stats._distn_infrastructure.rv_frozen object at 0x000002A215EB98C8>,\n",
       "                                        'n_estimators': <scipy.stats._distn_infrastructure.rv_frozen object at 0x000002A21DF92708>,\n",
       "                                        'n_jobs': [-1],\n",
       "                                        'subsample': <scipy.stats._distn_infrastructure.rv_frozen object at 0x000002A22409F088>,\n",
       "                                        'use_label_encoder': [False],\n",
       "                                        'verbosity': [0]},\n",
       "                   return_train_score=True, verbose=1)"
      ]
     },
     "execution_count": 24,
     "metadata": {},
     "output_type": "execute_result"
    }
   ],
   "source": [
    "xgb_model = xgb.XGBClassifier( objective=\"binary:logistic\", eval_metric='mlogloss')\n",
    "\n",
    "params = {\n",
    "    \"colsample_bytree\": uniform(0.7, 0.3),\n",
    "    \"gamma\": uniform(0, 0.5),\n",
    "    \"learning_rate\": uniform(0.03, 0.3), # default 0.1 \n",
    "    \"max_depth\": randint(2, 6), # default 3\n",
    "    \"n_estimators\": randint(100, 150), # default 100\n",
    "    \"subsample\": uniform(0.6, 0.4),\n",
    "    'verbosity': [0],\n",
    "    'n_jobs': [-1],\n",
    "    'eval_metric':['mlogloss'],\n",
    "    'use_label_encoder':[False]\n",
    "}\n",
    "\n",
    "search = RandomizedSearchCV(xgb_model, param_distributions=params,  n_iter=35, cv=3, verbose=1, n_jobs=1, return_train_score=True)\n",
    "\n",
    "search.fit(x_train, y_train)\n",
    "\n"
   ]
  },
  {
   "cell_type": "code",
   "execution_count": 25,
   "metadata": {},
   "outputs": [
    {
     "data": {
      "text/plain": [
       "{'colsample_bytree': 0.8233534396517617,\n",
       " 'eval_metric': 'mlogloss',\n",
       " 'gamma': 0.4413172225884209,\n",
       " 'learning_rate': 0.2378124044384247,\n",
       " 'max_depth': 2,\n",
       " 'n_estimators': 105,\n",
       " 'n_jobs': -1,\n",
       " 'subsample': 0.6257760924741134,\n",
       " 'use_label_encoder': False,\n",
       " 'verbosity': 0}"
      ]
     },
     "execution_count": 25,
     "metadata": {},
     "output_type": "execute_result"
    }
   ],
   "source": [
    "search.best_params_"
   ]
  },
  {
   "cell_type": "markdown",
   "metadata": {},
   "source": [
    "Débido a que nuestra búsqueda es aleatoria, los resultados que se obtienen varian con cada ejecución, pero, al ejecutar varias pruebas, podremos ver que la tasa de precisión ronda entre los 92% a 95%, lo cual es un muy buen indicador de la calidad del XGBoost"
   ]
  },
  {
   "cell_type": "code",
   "execution_count": 26,
   "metadata": {},
   "outputs": [
    {
     "name": "stdout",
     "output_type": "stream",
     "text": [
      "Tasa de aciertos: 0.9411764705882353\n"
     ]
    }
   ],
   "source": [
    "xgb_model = xgb.XGBClassifier(colsample_bytree=0.8233534396517617, eval_metric='mlogloss', gamma= 0.44131722258842093, learning_rate= 0.2378124044384247, max_depth= 2, n_estimators= 105, n_jobs= -1, subsample= 0.6257760924741134, \n",
    "use_label_encoder= False, verbosity= 0)\n",
    "xgb_model.fit(x_train, y_train)\n",
    "\n",
    "y_pred = xgb_model.predict(x_test)\n",
    "\n",
    "accuracy=accuracy_score(y_true=y_test, y_pred=y_pred)\n",
    "print(f'Tasa de aciertos: {accuracy}')"
   ]
  },
  {
   "cell_type": "code",
   "execution_count": 27,
   "metadata": {},
   "outputs": [
    {
     "data": {
      "text/plain": [
       "<AxesSubplot:>"
      ]
     },
     "execution_count": 27,
     "metadata": {},
     "output_type": "execute_result"
    },
    {
     "data": {
      "image/png": "[encoded data removed]",
      "text/plain": [
       "<Figure size 360x360 with 2 Axes>"
      ]
     },
     "metadata": {
      "needs_background": "light"
     },
     "output_type": "display_data"
    }
   ],
   "source": [
    "\n",
    "\n",
    "columas=[\"Abejas\",\"Hormigas\"]\n",
    "cm=confusion_matrix(y_test, y_pred)\n",
    "df_cm = pd.DataFrame(cm, index = columas,\n",
    "                  columns = columas)\n",
    "plt.figure(figsize = (5,5))\n",
    "sn.heatmap(df_cm, annot=True)"
   ]
  },
  {
   "cell_type": "code",
   "execution_count": 28,
   "metadata": {},
   "outputs": [
    {
     "name": "stdout",
     "output_type": "stream",
     "text": [
      "              precision    recall  f1-score   support\n",
      "\n",
      "      Abejas       0.93      0.94      0.94        70\n",
      "    Hormigas       0.95      0.94      0.95        83\n",
      "\n",
      "    accuracy                           0.94       153\n",
      "   macro avg       0.94      0.94      0.94       153\n",
      "weighted avg       0.94      0.94      0.94       153\n",
      "\n"
     ]
    }
   ],
   "source": [
    "print(metrics.classification_report(y_test, y_pred, target_names=[\"Abejas\",\"Hormigas\"]))"
   ]
  },
  {
   "cell_type": "markdown",
   "metadata": {},
   "source": [
    "### Conclusión:\n",
    "Podemos decir, que usar las redes neuronales para extraer los features de un dataset, para despues aplicarlos los \"algoritmos clásicos\" de machine learning, es una buena combinación, ya que conmuy poco esfuerzo, conseguimos excelentes resultados.\n",
    "<br>\n",
    "Si comparamos el KNN, que es un modelo sencillo, tuvimos una precisión del 80% (por tomar el accuracy como punto de comparación), mientras que con XGBoost obtuvimos un poco más del 90%.\n",
    "<br>\n",
    "Tambien de esta forma, desde mi punto de vista, ganamos mayor explicabilidad para nuestro modelo, sino, muchas veces las redes neuronales son vistas como cajas negras, donde entra algo, la computadora se encarga de realizar la extraccion de carácteristicas y nos devuelve un numero, y esto se vuelve más confuso mientras más compleja es la arquitectura de la red neuronal, cosa que no sucede con los algoritmos clásicos (obviamente al aumentar la dimensión es más dificil de explicar)."
   ]
  }
 ],
 "metadata": {
  "interpreter": {
   "hash": "43a68c45ba6051e1988e03d62ad04977e06475d4b702447f7d87ba61fe43c158"
  },
  "kernelspec": {
   "display_name": "Python 3.7.10 64-bit ('iafrvm': conda)",
   "name": "python3"
  },
  "language_info": {
   "codemirror_mode": {
    "name": "ipython",
    "version": 3
   },
   "file_extension": ".py",
   "mimetype": "text/x-python",
   "name": "python",
   "nbconvert_exporter": "python",
   "pygments_lexer": "ipython3",
   "version": "3.7.10"
  },
  "orig_nbformat": 2
 },
 "nbformat": 4,
 "nbformat_minor": 2
}
